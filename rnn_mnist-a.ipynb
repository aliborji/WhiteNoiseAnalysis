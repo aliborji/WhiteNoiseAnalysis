{
 "cells": [
  {
   "cell_type": "code",
   "execution_count": 5,
   "metadata": {},
   "outputs": [
    {
     "name": "stdout",
     "output_type": "stream",
     "text": [
      "Populating the interactive namespace from numpy and matplotlib\n"
     ]
    }
   ],
   "source": [
    "%pylab inline\n",
    "import torch\n",
    "import torch.nn as nn\n",
    "import torchvision.transforms as transforms\n",
    "import torchvision.datasets as dsets\n",
    "\n",
    "import sys\n",
    "from tqdm import tqdm"
   ]
  },
  {
   "cell_type": "code",
   "execution_count": 6,
   "metadata": {},
   "outputs": [],
   "source": [
    "cuda = torch.cuda.is_available()\n",
    "device = torch.device(\"cuda\" if cuda else \"cpu\")\n",
    "save_path = 'cache/models'"
   ]
  },
  {
   "cell_type": "code",
   "execution_count": 20,
   "metadata": {},
   "outputs": [
    {
     "name": "stdout",
     "output_type": "stream",
     "text": [
      "torch.Size([60000, 28, 28])\n",
      "torch.Size([10000, 28, 28])\n",
      "tensor(5842) tensor(6265)\n",
      "tensor(982) tensor(1028)\n"
     ]
    }
   ],
   "source": [
    "train_dataset = dsets.MNIST(root='./data', \n",
    "                            train=True, \n",
    "                            transform=transforms.ToTensor(),\n",
    "                            download=True)\n",
    "test_dataset = dsets.MNIST(root='./data', \n",
    "                           train=False, \n",
    "                           transform=transforms.ToTensor())\n",
    "print(train_dataset.data.size())\n",
    "print(test_dataset.data.size())\n",
    "\n",
    "\n",
    "\n",
    "\n",
    "\n",
    "\n",
    "\n",
    "digit_p, digit_q =  4, 7\n",
    "\n",
    "# digit_p, digit_q =  4,9\n",
    "\n",
    "\n",
    "data1 = train_dataset\n",
    "# selecting number 0 zero only\n",
    "tt = data1.targets[(data1.targets== digit_p) | (data1.targets== digit_q)]\n",
    "tt[tt==digit_p] =  0\n",
    "tt[tt==digit_q] = 1\n",
    "dd = data1.data[(data1.targets== digit_p) | (data1.targets== digit_q)] \n",
    "# tt = data.targets[(data.targets== 1)]\n",
    "# dd = data.data[(data.targets== 1)] \n",
    "\n",
    "data1.targets = tt\n",
    "data1.data = dd\n",
    "train_loader = torch.utils.data.DataLoader(data1, batch_size=100, shuffle=True, drop_last = True)\n",
    "# Num batches\n",
    "# num_batches = len(train_loader)\n",
    "\n",
    "print((tt==0).sum(), (tt==1).sum())\n",
    "\n",
    "\n",
    "\n",
    "\n",
    "\n",
    "data2 = test_dataset\n",
    "# selecting number 0 zero only\n",
    "tt = data2.targets[(data2.targets== digit_p) | (data2.targets== digit_q)]\n",
    "tt[tt==digit_p] =  0\n",
    "tt[tt==digit_q] = 1\n",
    "dd = data2.data[(data2.targets== digit_p) | (data2.targets== digit_q)] \n",
    "# tt = data.targets[(data.targets== 1)]\n",
    "# dd = data.data[(data.targets== 1)] \n",
    "\n",
    "data2.targets = tt\n",
    "data2.data = dd\n",
    "test_loader = torch.utils.data.DataLoader(data2, batch_size=100, shuffle=True, drop_last = True)\n",
    "# Num batches\n",
    "# num_batches = len(train_loader)\n",
    "print((tt==0).sum(), (tt==1).sum())\n",
    "\n",
    "\n",
    "\n",
    "\n",
    "\n",
    "\n",
    "\n",
    "\n",
    "\n",
    "\n",
    "\n",
    "\n"
   ]
  },
  {
   "cell_type": "code",
   "execution_count": 14,
   "metadata": {},
   "outputs": [],
   "source": [
    "# train_dataset.data"
   ]
  },
  {
   "cell_type": "code",
   "execution_count": 21,
   "metadata": {},
   "outputs": [
    {
     "name": "stdout",
     "output_type": "stream",
     "text": [
      "28 2\n",
      "number of epochs: 83\n"
     ]
    }
   ],
   "source": [
    "p = train_dataset.data.size()[1]\n",
    "num_cls = len(set(train_dataset.targets.numpy()))\n",
    "print(p, num_cls)\n",
    "\n",
    "batch_size = 100\n",
    "n_iters = 10000\n",
    "num_epochs = int(n_iters / (len(train_dataset) / batch_size))+1\n",
    "print('number of epochs: {}'.format(num_epochs))\n",
    "\n",
    "train_loader = torch.utils.data.DataLoader(dataset=train_dataset, \n",
    "                                           batch_size=batch_size, \n",
    "                                           shuffle=True)\n",
    "\n",
    "test_loader = torch.utils.data.DataLoader(dataset=test_dataset, \n",
    "                                          batch_size=batch_size, \n",
    "                                          shuffle=False)"
   ]
  },
  {
   "cell_type": "code",
   "execution_count": 46,
   "metadata": {},
   "outputs": [
    {
     "name": "stdout",
     "output_type": "stream",
     "text": [
      "RNNModel(\n",
      "  (rnn): RNN(4, 2, num_layers=2, batch_first=True)\n",
      "  (fc): Linear(in_features=2, out_features=10, bias=True)\n",
      ")\n",
      "10\n",
      "torch.Size([2, 4])\n",
      "torch.Size([2, 2])\n",
      "torch.Size([2])\n",
      "torch.Size([2])\n",
      "torch.Size([2, 2])\n",
      "torch.Size([2, 2])\n",
      "torch.Size([2])\n",
      "torch.Size([2])\n",
      "torch.Size([10, 2])\n",
      "torch.Size([10])\n"
     ]
    }
   ],
   "source": [
    "class RNNModel(nn.Module):\n",
    "    def __init__(self, input_dim, hidden_dim, layer_dim, output_dim):\n",
    "        super(RNNModel, self).__init__()\n",
    "        # Hidden dimensions\n",
    "        self.hidden_dim = hidden_dim\n",
    "\n",
    "        # Number of hidden layers\n",
    "        self.layer_dim = layer_dim\n",
    "\n",
    "        # Building your RNN\n",
    "        # batch_first=True causes input/output tensors to be of shape\n",
    "        # (batch_dim, seq_dim, feature_dim)\n",
    "        self.rnn = nn.RNN(input_dim, hidden_dim, layer_dim, batch_first=True, nonlinearity='tanh')\n",
    "\n",
    "        # Readout layer\n",
    "        self.fc = nn.Linear(hidden_dim, output_dim)\n",
    "\n",
    "    def forward(self, x):\n",
    "        # Initialize hidden state with zeros\n",
    "        #######################\n",
    "        #  USE GPU FOR MODEL  #\n",
    "        #######################\n",
    "        h0 = torch.zeros(self.layer_dim, x.size(0), self.hidden_dim).to(device)\n",
    "\n",
    "        # One time step\n",
    "        # We need to detach the hidden state to prevent exploding/vanishing gradients\n",
    "        # This is part of truncated backpropagation through time (BPTT)\n",
    "        out, hn = self.rnn(x, h0.detach())\n",
    "\n",
    "        # Index hidden state of last time step\n",
    "        # out.size() --> 100, 28, 100\n",
    "        # out[:, -1, :] --> 100, 100 --> just want last time step hidden states! \n",
    "        out = self.fc(out[:, -1, :]) \n",
    "        # out.size() --> 100, 10\n",
    "        return out\n",
    "\n",
    "input_dim = 4\n",
    "hidden_dim = 2\n",
    "layer_dim = 2  # ONLY CHANGE IS HERE FROM ONE LAYER TO TWO LAYER\n",
    "output_dim = 10\n",
    "\n",
    "model = RNNModel(input_dim, hidden_dim, layer_dim, output_dim)\n",
    "model.to(device)\n",
    "\n",
    "# JUST PRINTING MODEL & PARAMETERS \n",
    "print(model)\n",
    "print(len(list(model.parameters())))\n",
    "for i in range(len(list(model.parameters()))):\n",
    "    print(list(model.parameters())[i].size())"
   ]
  },
  {
   "cell_type": "code",
   "execution_count": 51,
   "metadata": {},
   "outputs": [
    {
     "name": "stdout",
     "output_type": "stream",
     "text": [
      "Iteration: 500. Loss: 0.7144721746444702. Accuracy: 51.14427947998047\n",
      " Best model saved.\n",
      "Iteration: 1000. Loss: 0.7127699255943298. Accuracy: 51.14427947998047\n",
      "Iteration: 1500. Loss: 0.6995964646339417. Accuracy: 51.14427947998047\n",
      "Iteration: 2000. Loss: 0.7078530192375183. Accuracy: 51.14427947998047\n",
      "Iteration: 2500. Loss: 0.7059417963027954. Accuracy: 51.14427947998047\n",
      "Iteration: 3000. Loss: 0.7016143798828125. Accuracy: 51.14427947998047\n"
     ]
    }
   ],
   "source": [
    "### Model Training\n",
    "criterion = nn.CrossEntropyLoss()\n",
    "\n",
    "learning_rate = 0.01\n",
    "optimizer = torch.optim.SGD(model.parameters(), lr=learning_rate)  \n",
    "\n",
    "# Number of steps to unroll\n",
    "seq_dim = 28*28 // 4 \n",
    "\n",
    "iter = 0\n",
    "best_acc = 0\n",
    "num_epochs = 6\n",
    "for epoch in range(num_epochs):\n",
    "    for i, (images, labels) in enumerate(train_loader):\n",
    "        model.train()\n",
    "        # Load images as tensors with gradient accumulation abilities\n",
    "        images, labels = images.view(-1, seq_dim, \n",
    "                                     input_dim).requires_grad_().to(device), labels.to(device)\n",
    "\n",
    "        # Clear gradients w.r.t. parameters\n",
    "        optimizer.zero_grad()\n",
    "\n",
    "        # Forward pass to get output/logits\n",
    "        # outputs.size() --> 100, 10\n",
    "        outputs = model(images)\n",
    "\n",
    "        # Calculate Loss: softmax --> cross entropy loss\n",
    "        loss = criterion(outputs, labels)\n",
    "\n",
    "        # Getting gradients w.r.t. parameters\n",
    "        loss.backward()\n",
    "\n",
    "        # Updating parameters\n",
    "        optimizer.step()\n",
    "\n",
    "        iter += 1\n",
    "\n",
    "        if iter % 500 == 0:\n",
    "            model.eval()\n",
    "            # Calculate Accuracy         \n",
    "            correct = 0\n",
    "            total = 0\n",
    "            with torch.no_grad():\n",
    "                # Iterate through test dataset\n",
    "                for images, labels in test_loader:\n",
    "                    # Resize images\n",
    "                    images = images.view(-1, seq_dim, input_dim).to(device)\n",
    "\n",
    "                    # Forward pass only to get logits/output\n",
    "#                     import pdb; pdb.set_trace()\n",
    "                    outputs = model(images)\n",
    "\n",
    "                    # Get predictions from the maximum value\n",
    "                    _, predicted = torch.max(outputs.data, 1)\n",
    "\n",
    "                    # Total number of labels\n",
    "                    total += labels.size(0)\n",
    "\n",
    "                    # Total correct predictions\n",
    "                    if cuda:\n",
    "                        correct += (predicted.cpu() == labels.cpu()).sum()\n",
    "                    else:\n",
    "                        correct += (predicted == labels).sum()\n",
    "\n",
    "            accuracy = 100 * correct.float() / total\n",
    "\n",
    "            # Print Loss\n",
    "            print('Iteration: {}. Loss: {}. Accuracy: {}'.format(iter, loss.item(), accuracy))\n",
    "            if accuracy > best_acc:\n",
    "                best_acc = accuracy\n",
    "                torch.save({'epoch': epoch,\n",
    "                            'model': model.state_dict(),\n",
    "                            'optimizer': optimizer.state_dict()\n",
    "                           }, '{}/rnn_iter_{}.pth'.format(save_path, iter))\n",
    "                print('\\r Best model saved.\\r')\n",
    "      "
   ]
  },
  {
   "cell_type": "code",
   "execution_count": 7,
   "metadata": {},
   "outputs": [
    {
     "data": {
      "text/plain": [
       "<All keys matched successfully>"
      ]
     },
     "execution_count": 7,
     "metadata": {},
     "output_type": "execute_result"
    }
   ],
   "source": [
    "### Load and use the best model\n",
    "bst_mdl = save_path+'/rnn_best.pth'\n",
    "model.load_state_dict(torch.load(bst_mdl)['model'])"
   ]
  },
  {
   "cell_type": "code",
   "execution_count": 32,
   "metadata": {},
   "outputs": [
    {
     "data": {
      "text/plain": [
       "torch.Size([100, 1, 28, 28])"
      ]
     },
     "execution_count": 32,
     "metadata": {},
     "output_type": "execute_result"
    }
   ],
   "source": [
    "images.shape"
   ]
  },
  {
   "cell_type": "code",
   "execution_count": 16,
   "metadata": {},
   "outputs": [
    {
     "name": "stdout",
     "output_type": "stream",
     "text": [
      "Epoch [1/5], Step [100/600], Loss: 0.4816\n",
      "Epoch [1/5], Step [200/600], Loss: 0.2950\n",
      "Epoch [1/5], Step [300/600], Loss: 0.2927\n",
      "Epoch [1/5], Step [400/600], Loss: 0.1200\n",
      "Epoch [1/5], Step [500/600], Loss: 0.1486\n",
      "Epoch [1/5], Step [600/600], Loss: 0.0772\n",
      "Epoch [2/5], Step [100/600], Loss: 0.0325\n",
      "Epoch [2/5], Step [200/600], Loss: 0.1791\n",
      "Epoch [2/5], Step [300/600], Loss: 0.1668\n",
      "Epoch [2/5], Step [400/600], Loss: 0.2146\n",
      "Epoch [2/5], Step [500/600], Loss: 0.0146\n",
      "Epoch [2/5], Step [600/600], Loss: 0.0834\n",
      "Epoch [3/5], Step [100/600], Loss: 0.0175\n",
      "Epoch [3/5], Step [200/600], Loss: 0.0621\n",
      "Epoch [3/5], Step [300/600], Loss: 0.1029\n",
      "Epoch [3/5], Step [400/600], Loss: 0.0541\n",
      "Epoch [3/5], Step [500/600], Loss: 0.1015\n",
      "Epoch [3/5], Step [600/600], Loss: 0.0447\n",
      "Epoch [4/5], Step [100/600], Loss: 0.0538\n",
      "Epoch [4/5], Step [200/600], Loss: 0.2240\n",
      "Epoch [4/5], Step [300/600], Loss: 0.1090\n",
      "Epoch [4/5], Step [400/600], Loss: 0.0375\n",
      "Epoch [4/5], Step [500/600], Loss: 0.0854\n",
      "Epoch [4/5], Step [600/600], Loss: 0.0608\n",
      "Epoch [5/5], Step [100/600], Loss: 0.0366\n",
      "Epoch [5/5], Step [200/600], Loss: 0.0681\n",
      "Epoch [5/5], Step [300/600], Loss: 0.0058\n",
      "Epoch [5/5], Step [400/600], Loss: 0.1727\n",
      "Epoch [5/5], Step [500/600], Loss: 0.0176\n",
      "Epoch [5/5], Step [600/600], Loss: 0.0923\n",
      "Test Accuracy of the model on the 10000 test images: 97.45 %\n"
     ]
    }
   ],
   "source": [
    "# import torch \n",
    "# import torch.nn as nn\n",
    "# import torchvision\n",
    "# import torchvision.transforms as transforms\n",
    "\n",
    "\n",
    "# # Device configuration\n",
    "# device = torch.device('cuda' if torch.cuda.is_available() else 'cpu')\n",
    "\n",
    "# # Hyper-parameters\n",
    "# sequence_length = 28\n",
    "# input_size = 28\n",
    "# hidden_size = 128\n",
    "# num_layers = 2\n",
    "# num_classes = 10\n",
    "# batch_size = 100\n",
    "# num_epochs = 5\n",
    "# learning_rate = 0.01\n",
    "\n",
    "\n",
    "# # Recurrent neural network (many-to-one)\n",
    "# class RNN(nn.Module):\n",
    "#     def __init__(self, input_size, hidden_size, num_layers, num_classes):\n",
    "#         super(RNN, self).__init__()\n",
    "#         self.hidden_size = hidden_size\n",
    "#         self.num_layers = num_layers\n",
    "#         self.lstm = nn.LSTM(input_size, hidden_size, num_layers, batch_first=True)\n",
    "#         self.fc = nn.Linear(hidden_size, num_classes)\n",
    "    \n",
    "#     def forward(self, x):\n",
    "#         # Set initial hidden and cell states \n",
    "#         h0 = torch.zeros(self.num_layers, x.size(0), self.hidden_size).to(device) \n",
    "#         c0 = torch.zeros(self.num_layers, x.size(0), self.hidden_size).to(device)\n",
    "        \n",
    "#         # Forward propagate LSTM\n",
    "#         out, _ = self.lstm(x, (h0, c0))  # out: tensor of shape (batch_size, seq_length, hidden_size)\n",
    "        \n",
    "#         # Decode the hidden state of the last time step\n",
    "#         out = self.fc(out[:, -1, :])\n",
    "#         return out\n",
    "\n",
    "# model = RNN(input_size, hidden_size, num_layers, num_classes).to(device)\n",
    "\n",
    "\n",
    "# # Loss and optimizer\n",
    "# criterion = nn.CrossEntropyLoss()\n",
    "# optimizer = torch.optim.Adam(model.parameters(), lr=learning_rate)\n",
    "\n",
    "# # Train the model\n",
    "# total_step = len(train_loader)\n",
    "# for epoch in range(num_epochs):\n",
    "#     for i, (images, labels) in enumerate(train_loader):\n",
    "#         images = images.reshape(-1, sequence_length, input_size).to(device)\n",
    "#         labels = labels.to(device)\n",
    "        \n",
    "#         # Forward pass\n",
    "#         outputs = model(images)\n",
    "#         loss = criterion(outputs, labels)\n",
    "        \n",
    "#         # Backward and optimize\n",
    "#         optimizer.zero_grad()\n",
    "#         loss.backward()\n",
    "#         optimizer.step()\n",
    "        \n",
    "#         if (i+1) % 100 == 0:\n",
    "#             print ('Epoch [{}/{}], Step [{}/{}], Loss: {:.4f}' \n",
    "#                    .format(epoch+1, num_epochs, i+1, total_step, loss.item()))\n",
    "\n",
    "# # Test the model\n",
    "# with torch.no_grad():\n",
    "#     correct = 0\n",
    "#     total = 0\n",
    "#     for images, labels in test_loader:\n",
    "#         images = images.reshape(-1, sequence_length, input_size).to(device)\n",
    "#         labels = labels.to(device)\n",
    "#         outputs = model(images)\n",
    "#         _, predicted = torch.max(outputs.data, 1)\n",
    "#         total += labels.size(0)\n",
    "#         correct += (predicted == labels).sum().item()\n",
    "\n",
    "#     print('Test Accuracy of the model on the 10000 test images: {} %'.format(100 * correct / total)) \n",
    "\n",
    "# # Save the model checkpoint\n",
    "# torch.save(model.state_dict(), 'model.ckpt')"
   ]
  },
  {
   "cell_type": "code",
   "execution_count": 25,
   "metadata": {},
   "outputs": [
    {
     "name": "stdout",
     "output_type": "stream",
     "text": [
      "100%|██████████| 100/100 [01:04<00:00,  1.55it/s]\n"
     ]
    }
   ],
   "source": [
    "### Feeding white-noise\n",
    "model.eval()\n",
    "\n",
    "batch_size = 10000\n",
    "all_size = 100000\n",
    "iters = 100\n",
    "stats = {} # recording the bias\n",
    "noise = {}\n",
    "\n",
    "for i in range(num_cls):\n",
    "    stats[i] = 0\n",
    "    noise[i] = []\n",
    "\n",
    "with tqdm(total=iters, file=sys.stdout) as pbar:\n",
    "    for kk in range(iters):\n",
    "        z = torch.rand(all_size, p, p)\n",
    "        for k in range(0, all_size, batch_size):\n",
    "            with torch.no_grad():\n",
    "                cur_data = z[k:k+batch_size]\n",
    "                if cuda:\n",
    "                    cur_data = cur_data.cuda()\n",
    "                pred = model(cur_data).max(1)[1]\n",
    "\n",
    "            for i in range(num_cls):\n",
    "                noise[i].append(cur_data[pred == i].cpu())\n",
    "                stats[i] += (pred == i).sum().cpu()\n",
    "        pbar.update(1)"
   ]
  },
  {
   "cell_type": "code",
   "execution_count": 26,
   "metadata": {},
   "outputs": [
    {
     "data": {
      "text/plain": [
       "{0: tensor(3190130), 1: tensor(6809870)}"
      ]
     },
     "execution_count": 26,
     "metadata": {},
     "output_type": "execute_result"
    }
   ],
   "source": [
    "stats"
   ]
  },
  {
   "cell_type": "code",
   "execution_count": 15,
   "metadata": {},
   "outputs": [
    {
     "data": {
      "text/plain": [
       "tensor([9, 8, 9,  ..., 8, 8, 8], device='cuda:0')"
      ]
     },
     "execution_count": 15,
     "metadata": {},
     "output_type": "execute_result"
    }
   ],
   "source": [
    "pred"
   ]
  },
  {
   "cell_type": "code",
   "execution_count": 27,
   "metadata": {},
   "outputs": [
    {
     "name": "stdout",
     "output_type": "stream",
     "text": [
      "0\n"
     ]
    },
    {
     "data": {
      "image/png": "[encoded data removed]",
      "text/plain": [
       "<Figure size 432x288 with 1 Axes>"
      ]
     },
     "metadata": {
      "needs_background": "light"
     },
     "output_type": "display_data"
    },
    {
     "name": "stdout",
     "output_type": "stream",
     "text": [
      "1\n"
     ]
    },
    {
     "data": {
      "image/png": "[encoded data removed]",
      "text/plain": [
       "<Figure size 432x288 with 1 Axes>"
      ]
     },
     "metadata": {
      "needs_background": "light"
     },
     "output_type": "display_data"
    }
   ],
   "source": [
    "# visualize\n",
    "for i in range(num_cls):\n",
    "    if stats[i] != 0:\n",
    "        print(i)\n",
    "        plt.imshow(torch.cat(noise[i]).mean(0))\n",
    "        plt.show()"
   ]
  },
  {
   "cell_type": "code",
   "execution_count": null,
   "metadata": {},
   "outputs": [],
   "source": []
  }
 ],
 "metadata": {
  "kernelspec": {
   "display_name": "Python 3",
   "language": "python",
   "name": "python3"
  },
  "language_info": {
   "codemirror_mode": {
    "name": "ipython",
    "version": 3
   },
   "file_extension": ".py",
   "mimetype": "text/x-python",
   "name": "python",
   "nbconvert_exporter": "python",
   "pygments_lexer": "ipython3",
   "version": "3.6.8"
  }
 },
 "nbformat": 4,
 "nbformat_minor": 2
}
